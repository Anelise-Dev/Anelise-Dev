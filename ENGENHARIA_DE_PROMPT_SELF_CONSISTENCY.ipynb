{
  "nbformat": 4,
  "nbformat_minor": 0,
  "metadata": {
    "colab": {
      "provenance": [],
      "authorship_tag": "ABX9TyMzNKiHuSALYD/yQDegHKqW",
      "include_colab_link": true
    },
    "kernelspec": {
      "name": "python3",
      "display_name": "Python 3"
    },
    "language_info": {
      "name": "python"
    }
  },
  "cells": [
    {
      "cell_type": "markdown",
      "metadata": {
        "id": "view-in-github",
        "colab_type": "text"
      },
      "source": [
        "<a href=\"https://colab.research.google.com/github/Anelise-Dev/Anelise-Dev/blob/main/ENGENHARIA_DE_PROMPT_SELF_CONSISTENCY.ipynb\" target=\"_parent\"><img src=\"https://colab.research.google.com/assets/colab-badge.svg\" alt=\"Open In Colab\"/></a>"
      ]
    },
    {
      "cell_type": "code",
      "execution_count": 1,
      "metadata": {
        "colab": {
          "base_uri": "https://localhost:8080/",
          "height": 347
        },
        "id": "N1RqdR7Hxm_M",
        "outputId": "159ab88e-95e4-4196-b1e7-d1d996943592"
      },
      "outputs": [
        {
          "output_type": "error",
          "ename": "SecretNotFoundError",
          "evalue": "Secret OPENAI_API_KEY does not exist.",
          "traceback": [
            "\u001b[0;31m---------------------------------------------------------------------------\u001b[0m",
            "\u001b[0;31mSecretNotFoundError\u001b[0m                       Traceback (most recent call last)",
            "\u001b[0;32m<ipython-input-1-856b3fad0f6d>\u001b[0m in \u001b[0;36m<cell line: 0>\u001b[0;34m()\u001b[0m\n\u001b[1;32m      6\u001b[0m \u001b[0;34m\u001b[0m\u001b[0m\n\u001b[1;32m      7\u001b[0m \u001b[0;31m# seta a API key\u001b[0m\u001b[0;34m\u001b[0m\u001b[0;34m\u001b[0m\u001b[0m\n\u001b[0;32m----> 8\u001b[0;31m \u001b[0mopenai\u001b[0m\u001b[0;34m.\u001b[0m\u001b[0mapi_key\u001b[0m \u001b[0;34m=\u001b[0m \u001b[0muserdata\u001b[0m\u001b[0;34m.\u001b[0m\u001b[0mget\u001b[0m\u001b[0;34m(\u001b[0m\u001b[0;34m'OPENAI_API_KEY'\u001b[0m\u001b[0;34m)\u001b[0m\u001b[0;34m\u001b[0m\u001b[0;34m\u001b[0m\u001b[0m\n\u001b[0m\u001b[1;32m      9\u001b[0m \u001b[0;34m\u001b[0m\u001b[0m\n\u001b[1;32m     10\u001b[0m \u001b[0;31m# Definição de persona do sistema e histórico de mensagens\u001b[0m\u001b[0;34m\u001b[0m\u001b[0;34m\u001b[0m\u001b[0m\n",
            "\u001b[0;32m/usr/local/lib/python3.11/dist-packages/google/colab/userdata.py\u001b[0m in \u001b[0;36mget\u001b[0;34m(key)\u001b[0m\n\u001b[1;32m     66\u001b[0m     \u001b[0;32mraise\u001b[0m \u001b[0mTimeoutException\u001b[0m\u001b[0;34m(\u001b[0m\u001b[0mkey\u001b[0m\u001b[0;34m)\u001b[0m\u001b[0;34m\u001b[0m\u001b[0;34m\u001b[0m\u001b[0m\n\u001b[1;32m     67\u001b[0m   \u001b[0;32mif\u001b[0m \u001b[0;32mnot\u001b[0m \u001b[0mresp\u001b[0m\u001b[0;34m.\u001b[0m\u001b[0mget\u001b[0m\u001b[0;34m(\u001b[0m\u001b[0;34m'exists'\u001b[0m\u001b[0;34m,\u001b[0m \u001b[0;32mFalse\u001b[0m\u001b[0;34m)\u001b[0m\u001b[0;34m:\u001b[0m\u001b[0;34m\u001b[0m\u001b[0;34m\u001b[0m\u001b[0m\n\u001b[0;32m---> 68\u001b[0;31m     \u001b[0;32mraise\u001b[0m \u001b[0mSecretNotFoundError\u001b[0m\u001b[0;34m(\u001b[0m\u001b[0mkey\u001b[0m\u001b[0;34m)\u001b[0m\u001b[0;34m\u001b[0m\u001b[0;34m\u001b[0m\u001b[0m\n\u001b[0m\u001b[1;32m     69\u001b[0m   \u001b[0;32mif\u001b[0m \u001b[0;32mnot\u001b[0m \u001b[0mresp\u001b[0m\u001b[0;34m.\u001b[0m\u001b[0mget\u001b[0m\u001b[0;34m(\u001b[0m\u001b[0;34m'access'\u001b[0m\u001b[0;34m,\u001b[0m \u001b[0;32mFalse\u001b[0m\u001b[0;34m)\u001b[0m\u001b[0;34m:\u001b[0m\u001b[0;34m\u001b[0m\u001b[0;34m\u001b[0m\u001b[0m\n\u001b[1;32m     70\u001b[0m     \u001b[0;32mraise\u001b[0m \u001b[0mNotebookAccessError\u001b[0m\u001b[0;34m(\u001b[0m\u001b[0mkey\u001b[0m\u001b[0;34m)\u001b[0m\u001b[0;34m\u001b[0m\u001b[0;34m\u001b[0m\u001b[0m\n",
            "\u001b[0;31mSecretNotFoundError\u001b[0m: Secret OPENAI_API_KEY does not exist."
          ]
        }
      ],
      "source": [
        "#ENGENHARIA DE PROMPT SELF-CONSISTENCY\n",
        "!pip install -q openai\n",
        "\n",
        "from google.colab import userdata\n",
        "import openai\n",
        "\n",
        "# seta a API key\n",
        "openai.api_key = userdata.get('OPENAI_API_KEY')\n",
        "\n",
        "# Definição de persona do sistema e histórico de mensagens\n",
        "messages = [\n",
        "    {\"role\": \"system\", \"content\": \"You are a helpful assistant.\"},  # seta a persona do modelo, se vai ser educado, formal, sarcástico etc.\n",
        "\n",
        "]\n",
        "\n",
        "# SELF-CONSISTENCY\n",
        "answers = []\n",
        "\n",
        "LOOPS = 4\n",
        "\n",
        "prompt = \"\"\"Retorne no final sempre a string 'Resultado: ' com apenas valor do resultado depois dela, nenhuma operação nem pontuação além do valor.\n",
        "\n",
        "Pergunta: Se houver 3 carros no estacionamento e chegarem mais 2 carros, quantos carros estarão no estacionamento?\n",
        "\n",
        "Resposta: Já existem 3 carros no estacionamento. Chegam mais 2. Agora existem 3 + 2 = 5 carros. A resposta é 5.\n",
        "\n",
        "Resultado: 5\n",
        "\n",
        "Pergunta: Os patos de Janet botam 16 ovos por dia. Ela come três no café da manhã todas as manhãs e faz muffins para seus amigos todos os dias utilizando mais quatro. Ela vende o restante por 2 dólares por ovo. Quanto dinheiro ela ganha todos os dias?\n",
        "\n",
        "Resposta:\n",
        "\n",
        "Resultado:\"\"\"\n",
        "messages.append({\"role\": \"user\", \"content\": prompt})  # adiciona sua pergunta no histórico do chat\n",
        "\n",
        "for loop in range(0, LOOPS):\n",
        "    # Chamada à API\n",
        "    response = openai.chat.completions.create(\n",
        "        model = \"gpt-3.5-turbo\",\n",
        "        messages = messages,\n",
        "        max_tokens = 200,\n",
        "        temperature = 1\n",
        "    )\n",
        "\n",
        "    # Extrai a resposta de dentro do JSON de resposta\n",
        "    answer = response.choices[0].message.content\n",
        "    print(f\"### LOOP\", loop, ':\\n')\n",
        "    print(answer)\n",
        "\n",
        "    start_index = answer.find(\"Resultado: \") + len(\"Resultado: \")\n",
        "    if start_index != -1:\n",
        "        number_answer = answer[start_index:].split()[0].rstrip('.')\n",
        "        print(\"Answer:\", number_answer, '\\n------')\n",
        "        answers.append(int(number_answer))  # adiciona a resposta à lista de respostas\n",
        "\n",
        "print(answers, '\\n')"
      ]
    }
  ]
}