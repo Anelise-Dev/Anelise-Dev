{
  "nbformat": 4,
  "nbformat_minor": 0,
  "metadata": {
    "colab": {
      "provenance": [],
      "authorship_tag": "ABX9TyNhzvA8yaol7ABhm5YMgJhB",
      "include_colab_link": true
    },
    "kernelspec": {
      "name": "python3",
      "display_name": "Python 3"
    },
    "language_info": {
      "name": "python"
    }
  },
  "cells": [
    {
      "cell_type": "markdown",
      "metadata": {
        "id": "view-in-github",
        "colab_type": "text"
      },
      "source": [
        "<a href=\"https://colab.research.google.com/github/Anelise-Dev/Anelise-Dev/blob/main/RPA_PDF_Downloader.ipynb\" target=\"_parent\"><img src=\"https://colab.research.google.com/assets/colab-badge.svg\" alt=\"Open In Colab\"/></a>"
      ]
    },
    {
      "cell_type": "code",
      "execution_count": 2,
      "metadata": {
        "colab": {
          "base_uri": "https://localhost:8080/"
        },
        "id": "GQhtO5XB0_ml",
        "outputId": "a1b7eb8e-5aa0-4bd9-8fbd-1cfc3a37f8da"
      },
      "outputs": [
        {
          "output_type": "stream",
          "name": "stdout",
          "text": [
            "Collecting selenium\n",
            "  Downloading selenium-4.29.0-py3-none-any.whl.metadata (7.1 kB)\n",
            "Requirement already satisfied: urllib3<3,>=1.26 in /usr/local/lib/python3.11/dist-packages (from urllib3[socks]<3,>=1.26->selenium) (2.3.0)\n",
            "Collecting trio~=0.17 (from selenium)\n",
            "  Downloading trio-0.29.0-py3-none-any.whl.metadata (8.5 kB)\n",
            "Collecting trio-websocket~=0.9 (from selenium)\n",
            "  Downloading trio_websocket-0.12.2-py3-none-any.whl.metadata (5.1 kB)\n",
            "Requirement already satisfied: certifi>=2021.10.8 in /usr/local/lib/python3.11/dist-packages (from selenium) (2025.1.31)\n",
            "Requirement already satisfied: typing_extensions~=4.9 in /usr/local/lib/python3.11/dist-packages (from selenium) (4.12.2)\n",
            "Requirement already satisfied: websocket-client~=1.8 in /usr/local/lib/python3.11/dist-packages (from selenium) (1.8.0)\n",
            "Requirement already satisfied: attrs>=23.2.0 in /usr/local/lib/python3.11/dist-packages (from trio~=0.17->selenium) (25.1.0)\n",
            "Requirement already satisfied: sortedcontainers in /usr/local/lib/python3.11/dist-packages (from trio~=0.17->selenium) (2.4.0)\n",
            "Requirement already satisfied: idna in /usr/local/lib/python3.11/dist-packages (from trio~=0.17->selenium) (3.10)\n",
            "Collecting outcome (from trio~=0.17->selenium)\n",
            "  Downloading outcome-1.3.0.post0-py2.py3-none-any.whl.metadata (2.6 kB)\n",
            "Requirement already satisfied: sniffio>=1.3.0 in /usr/local/lib/python3.11/dist-packages (from trio~=0.17->selenium) (1.3.1)\n",
            "Collecting wsproto>=0.14 (from trio-websocket~=0.9->selenium)\n",
            "  Downloading wsproto-1.2.0-py3-none-any.whl.metadata (5.6 kB)\n",
            "Requirement already satisfied: pysocks!=1.5.7,<2.0,>=1.5.6 in /usr/local/lib/python3.11/dist-packages (from urllib3[socks]<3,>=1.26->selenium) (1.7.1)\n",
            "Requirement already satisfied: h11<1,>=0.9.0 in /usr/local/lib/python3.11/dist-packages (from wsproto>=0.14->trio-websocket~=0.9->selenium) (0.14.0)\n",
            "Downloading selenium-4.29.0-py3-none-any.whl (9.5 MB)\n",
            "\u001b[2K   \u001b[90m━━━━━━━━━━━━━━━━━━━━━━━━━━━━━━━━━━━━━━━━\u001b[0m \u001b[32m9.5/9.5 MB\u001b[0m \u001b[31m62.2 MB/s\u001b[0m eta \u001b[36m0:00:00\u001b[0m\n",
            "\u001b[?25hDownloading trio-0.29.0-py3-none-any.whl (492 kB)\n",
            "\u001b[2K   \u001b[90m━━━━━━━━━━━━━━━━━━━━━━━━━━━━━━━━━━━━━━━━\u001b[0m \u001b[32m492.9/492.9 kB\u001b[0m \u001b[31m29.0 MB/s\u001b[0m eta \u001b[36m0:00:00\u001b[0m\n",
            "\u001b[?25hDownloading trio_websocket-0.12.2-py3-none-any.whl (21 kB)\n",
            "Downloading outcome-1.3.0.post0-py2.py3-none-any.whl (10 kB)\n",
            "Downloading wsproto-1.2.0-py3-none-any.whl (24 kB)\n",
            "Installing collected packages: wsproto, outcome, trio, trio-websocket, selenium\n",
            "Successfully installed outcome-1.3.0.post0 selenium-4.29.0 trio-0.29.0 trio-websocket-0.12.2 wsproto-1.2.0\n",
            "Download concluído!\n"
          ]
        }
      ],
      "source": [
        "# Instalar o Selenium\n",
        "!pip install selenium\n",
        "\n",
        "# Importar bibliotecas\n",
        "import os\n",
        "from selenium import webdriver\n",
        "from selenium.webdriver.chrome.service import Service\n",
        "from selenium.webdriver.common.by import By\n",
        "from selenium.webdriver.chrome.options import Options\n",
        "import time\n",
        "\n",
        "# Criar diretório para downloads\n",
        "download_dir = \"/content/downloads\"\n",
        "os.makedirs(download_dir, exist_ok=True)\n",
        "\n",
        "# Configuração do Chrome\n",
        "chrome_cfg = Options()\n",
        "chrome_cfg.add_argument(\"--headless\")\n",
        "chrome_cfg.add_argument(\"--no-sandbox\")\n",
        "chrome_cfg.add_argument(\"--disable-dev-shm-usage\")\n",
        "chrome_cfg.add_experimental_option(\"prefs\", {\n",
        "    \"download.default_directory\": download_dir,\n",
        "    \"download.prompt_for_download\": False,\n",
        "    \"download.directory_upgrade\": True,\n",
        "    \"safebrowsing.enabled\": True\n",
        "})\n",
        "\n",
        "# Iniciar o driver\n",
        "nav = webdriver.Chrome(options=chrome_cfg)\n",
        "\n",
        "# Abrir a página\n",
        "nav.get(\"https://www.sindbancarios.org.br/noticia/12512/coe-entrega-pauta-de-reivindicacoes-a-direcao-do-banrisul\")\n",
        "\n",
        "# Aguardar o carregamento da página\n",
        "time.sleep(3)\n",
        "\n",
        "# Capturar o link do PDF\n",
        "try:\n",
        "    objx = nav.find_element(By.XPATH, \"//a[contains(text(), 'pauta de reivindicações')]\")\n",
        "    link = objx.get_attribute(\"href\")  # Pegar o link direto do botão\n",
        "    os.system(f\"wget -P {download_dir} {link}\")  # Usar wget para baixar diretamente\n",
        "    print(\"Download concluído!\")\n",
        "except Exception as e:\n",
        "    print(f\"Erro ao capturar o link: {e}\")\n",
        ""
      ]
    }
  ]
}