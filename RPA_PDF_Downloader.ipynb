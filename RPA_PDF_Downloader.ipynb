{
  "nbformat": 4,
  "nbformat_minor": 0,
  "metadata": {
    "colab": {
      "provenance": [],
      "authorship_tag": "ABX9TyNhzvA8yaol7ABhm5YMgJhB",
      "include_colab_link": true
    },
    "kernelspec": {
      "name": "python3",
      "display_name": "Python 3"
    },
    "language_info": {
      "name": "python"
    }
  },
  "cells": [
    {
      "cell_type": "markdown",
      "metadata": {
        "id": "view-in-github",
        "colab_type": "text"
      },
      "source": [
        "<a href=\"https://colab.research.google.com/github/Anelise-Dev/Anelise-Dev/blob/main/RPA_PDF_Downloader.ipynb\" target=\"_parent\"><img src=\"https://colab.research.google.com/assets/colab-badge.svg\" alt=\"Open In Colab\"/></a>"
      ]
    },
    {
      "cell_type": "code",
      "execution_count": null,
      "metadata": {
        "id": "GQhtO5XB0_ml"
      },
      "outputs": [],
      "source": [
        "# Instalar o Selenium\n",
        "!pip install selenium\n",
        "\n",
        "# Importar bibliotecas\n",
        "import os\n",
        "from selenium import webdriver\n",
        "from selenium.webdriver.chrome.service import Service\n",
        "from selenium.webdriver.common.by import By\n",
        "from selenium.webdriver.chrome.options import Options\n",
        "import time\n",
        "\n",
        "# Criar diretório para downloads\n",
        "download_dir = \"/content/downloads\"\n",
        "os.makedirs(download_dir, exist_ok=True)\n",
        "\n",
        "# Configuração do Chrome\n",
        "chrome_cfg = Options()\n",
        "chrome_cfg.add_argument(\"--headless\")\n",
        "chrome_cfg.add_argument(\"--no-sandbox\")\n",
        "chrome_cfg.add_argument(\"--disable-dev-shm-usage\")\n",
        "chrome_cfg.add_experimental_option(\"prefs\", {\n",
        "    \"download.default_directory\": download_dir,\n",
        "    \"download.prompt_for_download\": False,\n",
        "    \"download.directory_upgrade\": True,\n",
        "    \"safebrowsing.enabled\": True\n",
        "})\n",
        "\n",
        "# Iniciar o driver\n",
        "nav = webdriver.Chrome(options=chrome_cfg)\n",
        "\n",
        "# Abrir a página\n",
        "nav.get(\"https://www.sindbancarios.org.br/noticia/12512/coe-entrega-pauta-de-reivindicacoes-a-direcao-do-banrisul\")\n",
        "\n",
        "# Aguardar o carregamento da página\n",
        "time.sleep(3)\n",
        "\n",
        "# Capturar o link do PDF\n",
        "try:\n",
        "    objx = nav.find_element(By.XPATH, \"//a[contains(text(), 'pauta de reivindicações')]\")\n",
        "    link = objx.get_attribute(\"href\")  # Pegar o link direto do botão\n",
        "    os.system(f\"wget -P {download_dir} {link}\")  # Usar wget para baixar diretamente\n",
        "    print(\"Download concluído!\")\n",
        "except Exception as e:\n",
        "    print(f\"Erro ao capturar o link: {e}\")\n",
        ""
      ]
    }
  ]
}